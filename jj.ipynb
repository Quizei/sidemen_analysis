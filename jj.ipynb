{
 "cells": [
  {
   "cell_type": "code",
   "execution_count": 1,
   "metadata": {},
   "outputs": [],
   "source": [
    "from googleapiclient.discovery import build \n",
    "import pandas as pd \n",
    "import seaborn as sns \n"
   ]
  },
  {
   "cell_type": "code",
   "execution_count": 66,
   "metadata": {},
   "outputs": [],
   "source": [
    "api_key = 'Your api key'\n",
    "sidemen_channels= ['UCGmnsW623G1r-Chmo5RB4Yw', #jj\n",
    "                  \n",
    "                   ]\n",
    "\n",
    "\n",
    "youtube = build('youtube', 'v3', developerKey=api_key)"
   ]
  },
  {
   "cell_type": "code",
   "execution_count": 68,
   "metadata": {},
   "outputs": [],
   "source": [
    "def get_channel_stat(youtube, sidemen_channels):\n",
    "    data = []\n",
    "    for channel_id in sidemen_channels:\n",
    "        request = youtube.channels().list(\n",
    "            part='snippet,contentDetails,statistics',\n",
    "            id=channel_id\n",
    "        )\n",
    "        response = request.execute()\n",
    "        channel_name = response['items'][0]['snippet']['title']\n",
    "        subscriber_count = response['items'][0]['statistics']['subscriberCount']\n",
    "        views = response['items'][0]['statistics']['viewCount']\n",
    "        total_videos = response['items'][0]['statistics']['videoCount']\n",
    "        play= response['items'][0]['contentDetails']['relatedPlaylists']['uploads']\n",
    "       \n",
    "        data.append({\n",
    "            'Channel Name': channel_name,\n",
    "            'Subscriber Count': subscriber_count,\n",
    "            'Views': views,\n",
    "            'Total Videos': total_videos,\n",
    "            'Play' : play\n",
    "        })\n",
    "    return pd.DataFrame(data)"
   ]
  },
  {
   "cell_type": "code",
   "execution_count": 91,
   "metadata": {},
   "outputs": [
    {
     "data": {
      "text/html": [
       "<div>\n",
       "<style scoped>\n",
       "    .dataframe tbody tr th:only-of-type {\n",
       "        vertical-align: middle;\n",
       "    }\n",
       "\n",
       "    .dataframe tbody tr th {\n",
       "        vertical-align: top;\n",
       "    }\n",
       "\n",
       "    .dataframe thead th {\n",
       "        text-align: right;\n",
       "    }\n",
       "</style>\n",
       "<table border=\"1\" class=\"dataframe\">\n",
       "  <thead>\n",
       "    <tr style=\"text-align: right;\">\n",
       "      <th></th>\n",
       "      <th>Channel Name</th>\n",
       "      <th>Subscriber Count</th>\n",
       "      <th>Views</th>\n",
       "      <th>Total Videos</th>\n",
       "      <th>Play</th>\n",
       "    </tr>\n",
       "  </thead>\n",
       "  <tbody>\n",
       "    <tr>\n",
       "      <th>0</th>\n",
       "      <td>JJ Olatunji</td>\n",
       "      <td>16200000</td>\n",
       "      <td>3981871712</td>\n",
       "      <td>1260</td>\n",
       "      <td>UUGmnsW623G1r-Chmo5RB4Yw</td>\n",
       "    </tr>\n",
       "  </tbody>\n",
       "</table>\n",
       "</div>"
      ],
      "text/plain": [
       "  Channel Name Subscriber Count       Views Total Videos  \\\n",
       "0  JJ Olatunji         16200000  3981871712         1260   \n",
       "\n",
       "                       Play  \n",
       "0  UUGmnsW623G1r-Chmo5RB4Yw  "
      ]
     },
     "execution_count": 91,
     "metadata": {},
     "output_type": "execute_result"
    }
   ],
   "source": [
    "channel_data = get_channel_stat( youtube , sidemen_channels)\n",
    "channel_data\n"
   ]
  },
  {
   "cell_type": "code",
   "execution_count": 70,
   "metadata": {},
   "outputs": [
    {
     "data": {
      "text/plain": [
       "'UUGmnsW623G1r-Chmo5RB4Yw'"
      ]
     },
     "execution_count": 70,
     "metadata": {},
     "output_type": "execute_result"
    }
   ],
   "source": [
    "playlist_id = channel_data.loc[channel_data['Channel Name'] == 'JJ Olatunji' , 'Play' ].iloc[0]\n",
    "playlist_id"
   ]
  },
  {
   "cell_type": "code",
   "execution_count": 71,
   "metadata": {},
   "outputs": [],
   "source": [
    "def get_video_ids(youtube, playlist_id):\n",
    "    \n",
    "    request = youtube.playlistItems().list(\n",
    "        part='contentDetails',\n",
    "        playlistId=playlist_id,\n",
    "        maxResults = 50\n",
    "    )\n",
    "    response = request.execute()\n",
    "    video_ids = []\n",
    "    for i in range (len(response['items'])):\n",
    "        video_ids.append(response['items'][i]['contentDetails']['videoId'])\n",
    "\n",
    "    next_page = response.get('nextPageToken')\n",
    "    more_pages = True\n",
    "\n",
    "    while more_pages:\n",
    "        if next_page is None:\n",
    "            more_pages = False\n",
    "        else:\n",
    "            request = youtube.playlistItems().list(\n",
    "                    part='contentDetails',\n",
    "                    playlistId=playlist_id,\n",
    "                    maxResults = 50,\n",
    "                     pageToken = next_page ) \n",
    "            response = request.execute()\n",
    "\n",
    "            for i in range (len(response['items'])):\n",
    "              video_ids.append(response['items'][i]['contentDetails']['videoId'])\n",
    "\n",
    "            next_page = response.get('nextPageToken')\n",
    "        \n",
    "\n",
    "\n",
    "    return video_ids"
   ]
  },
  {
   "cell_type": "code",
   "execution_count": null,
   "metadata": {},
   "outputs": [],
   "source": [
    "video_ids = get_video_ids ( youtube , playlist_id)\n",
    "video_ids"
   ]
  },
  {
   "cell_type": "code",
   "execution_count": 118,
   "metadata": {},
   "outputs": [],
   "source": [
    "def get_video_details(youtube, video_ids):\n",
    "    allstats = []\n",
    "    for i in range(0, len(video_ids), 50):\n",
    "        request = youtube.videos().list(\n",
    "            part='snippet,statistics',\n",
    "            id=','.join(video_ids[i:i+50])\n",
    "        )\n",
    "        response = request.execute()\n",
    "        for video in response['items']:\n",
    "            video_stats = dict(\n",
    "                Title=video['snippet']['title'],\n",
    "                Publised_date=video['snippet']['publishedAt'],\n",
    "                Views=video['statistics']['viewCount']\n",
    "            )\n",
    "            allstats.append(video_stats)\n",
    "    return pd.DataFrame(allstats)\n",
    "\n",
    "    "
   ]
  },
  {
   "cell_type": "code",
   "execution_count": null,
   "metadata": {},
   "outputs": [],
   "source": [
    "video_details = get_video_details ( youtube, video_ids)\n",
    "final_data = pd.DataFrame(video_details)\n",
    "final_data\n"
   ]
  },
  {
   "cell_type": "code",
   "execution_count": 125,
   "metadata": {},
   "outputs": [],
   "source": [
    "final_data['Publised_date'] = pd.to_datetime(final_data['Publised_date']).dt.date\n",
    "final_data['Views'] = pd.to_numeric(final_data['Views'])\n"
   ]
  },
  {
   "cell_type": "code",
   "execution_count": 130,
   "metadata": {},
   "outputs": [
    {
     "data": {
      "text/html": [
       "<div>\n",
       "<style scoped>\n",
       "    .dataframe tbody tr th:only-of-type {\n",
       "        vertical-align: middle;\n",
       "    }\n",
       "\n",
       "    .dataframe tbody tr th {\n",
       "        vertical-align: top;\n",
       "    }\n",
       "\n",
       "    .dataframe thead th {\n",
       "        text-align: right;\n",
       "    }\n",
       "</style>\n",
       "<table border=\"1\" class=\"dataframe\">\n",
       "  <thead>\n",
       "    <tr style=\"text-align: right;\">\n",
       "      <th></th>\n",
       "      <th>Title</th>\n",
       "      <th>Publised_date</th>\n",
       "      <th>Views</th>\n",
       "    </tr>\n",
       "  </thead>\n",
       "  <tbody>\n",
       "    <tr>\n",
       "      <th>746</th>\n",
       "      <td>KSI Plays | A RACIST COMPUTER PROGRAM</td>\n",
       "      <td>2014-08-26</td>\n",
       "      <td>26488395</td>\n",
       "    </tr>\n",
       "    <tr>\n",
       "      <th>418</th>\n",
       "      <td>TRY NOT TO PERISH CHALLENGE</td>\n",
       "      <td>2019-02-26</td>\n",
       "      <td>22539587</td>\n",
       "    </tr>\n",
       "    <tr>\n",
       "      <th>202</th>\n",
       "      <td>TRY NOT TO LAUGH (African Edition 2)</td>\n",
       "      <td>2020-12-08</td>\n",
       "      <td>22504056</td>\n",
       "    </tr>\n",
       "    <tr>\n",
       "      <th>240</th>\n",
       "      <td>It‘s So Hard Not To Laugh At This</td>\n",
       "      <td>2020-10-01</td>\n",
       "      <td>21673292</td>\n",
       "    </tr>\n",
       "    <tr>\n",
       "      <th>417</th>\n",
       "      <td>TRY NOT TO LAUGH (ULTIMATE EDITION)</td>\n",
       "      <td>2019-02-27</td>\n",
       "      <td>21169682</td>\n",
       "    </tr>\n",
       "    <tr>\n",
       "      <th>186</th>\n",
       "      <td>Try Not To Laugh (Inappropriate Edition)</td>\n",
       "      <td>2021-02-10</td>\n",
       "      <td>19066271</td>\n",
       "    </tr>\n",
       "    <tr>\n",
       "      <th>347</th>\n",
       "      <td>REACTING TO EVERY DISSTRACK AT ME</td>\n",
       "      <td>2020-04-19</td>\n",
       "      <td>18794556</td>\n",
       "    </tr>\n",
       "    <tr>\n",
       "      <th>439</th>\n",
       "      <td>GUESS HER AGE?</td>\n",
       "      <td>2019-02-04</td>\n",
       "      <td>18736125</td>\n",
       "    </tr>\n",
       "    <tr>\n",
       "      <th>472</th>\n",
       "      <td>Watching Weird Videos</td>\n",
       "      <td>2019-01-02</td>\n",
       "      <td>18556313</td>\n",
       "    </tr>\n",
       "    <tr>\n",
       "      <th>337</th>\n",
       "      <td>TRY NOT TO LAUGH DANK MEMES</td>\n",
       "      <td>2020-04-30</td>\n",
       "      <td>18392629</td>\n",
       "    </tr>\n",
       "  </tbody>\n",
       "</table>\n",
       "</div>"
      ],
      "text/plain": [
       "                                        Title Publised_date     Views\n",
       "746     KSI Plays | A RACIST COMPUTER PROGRAM    2014-08-26  26488395\n",
       "418               TRY NOT TO PERISH CHALLENGE    2019-02-26  22539587\n",
       "202      TRY NOT TO LAUGH (African Edition 2)    2020-12-08  22504056\n",
       "240         It‘s So Hard Not To Laugh At This    2020-10-01  21673292\n",
       "417       TRY NOT TO LAUGH (ULTIMATE EDITION)    2019-02-27  21169682\n",
       "186  Try Not To Laugh (Inappropriate Edition)    2021-02-10  19066271\n",
       "347         REACTING TO EVERY DISSTRACK AT ME    2020-04-19  18794556\n",
       "439                            GUESS HER AGE?    2019-02-04  18736125\n",
       "472                     Watching Weird Videos    2019-01-02  18556313\n",
       "337               TRY NOT TO LAUGH DANK MEMES    2020-04-30  18392629"
      ]
     },
     "execution_count": 130,
     "metadata": {},
     "output_type": "execute_result"
    }
   ],
   "source": [
    "top_10 = final_data.sort_values(by='Views' , ascending = False).head(10)\n",
    "top_10"
   ]
  },
  {
   "cell_type": "code",
   "execution_count": 132,
   "metadata": {},
   "outputs": [],
   "source": [
    "final_data.to_csv('jj_youtube_career.csv', index=False)\n"
   ]
  },
  {
   "cell_type": "code",
   "execution_count": 131,
   "metadata": {},
   "outputs": [
    {
     "data": {
      "image/png": "[encoded data removed]",
      "text/plain": [
       "<Figure size 640x480 with 1 Axes>"
      ]
     },
     "metadata": {},
     "output_type": "display_data"
    }
   ],
   "source": [
    "plot = sns.barplot( x = 'Views' , y='Title' , data=top_10)"
   ]
  }
 ],
 "metadata": {
  "kernelspec": {
   "display_name": "Python 3",
   "language": "python",
   "name": "python3"
  },
  "language_info": {
   "codemirror_mode": {
    "name": "ipython",
    "version": 3
   },
   "file_extension": ".py",
   "mimetype": "text/x-python",
   "name": "python",
   "nbconvert_exporter": "python",
   "pygments_lexer": "ipython3",
   "version": "3.10.1"
  },
  "orig_nbformat": 4
 },
 "nbformat": 4,
 "nbformat_minor": 2
}
